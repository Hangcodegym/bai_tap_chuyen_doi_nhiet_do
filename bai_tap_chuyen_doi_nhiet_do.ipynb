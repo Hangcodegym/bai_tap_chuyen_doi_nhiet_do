{
 "cells": [
  {
   "cell_type": "code",
   "execution_count": null,
   "id": "618eb3f4",
   "metadata": {},
   "outputs": [],
   "source": [
    "c = input(\" Enter temperature in Centigrade: \")\n",
    "f = (9*(int(c))/5)+32\n",
    "print(f' Temperature in Fahrenheit is: {f}')"
   ]
  },
  {
   "cell_type": "code",
   "execution_count": null,
   "id": "76c5a79e",
   "metadata": {},
   "outputs": [],
   "source": []
  }
 ],
 "metadata": {
  "kernelspec": {
   "display_name": "Python 3 (ipykernel)",
   "language": "python",
   "name": "python3"
  },
  "language_info": {
   "codemirror_mode": {
    "name": "ipython",
    "version": 3
   },
   "file_extension": ".py",
   "mimetype": "text/x-python",
   "name": "python",
   "nbconvert_exporter": "python",
   "pygments_lexer": "ipython3",
   "version": "3.9.12"
  }
 },
 "nbformat": 4,
 "nbformat_minor": 5
}
